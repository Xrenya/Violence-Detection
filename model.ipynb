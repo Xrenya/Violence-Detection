{
 "cells": [
  {
   "cell_type": "code",
   "execution_count": 20,
   "metadata": {},
   "outputs": [],
   "source": [
    "import tensorflow as tf\n",
    "import numpy as np\n",
    "import cv2\n",
    "\n",
    "from skimage.transform import resize\n",
    "from tensorflow.keras.layers import TimeDistributed, LSTM, Dense, Dropout, Flatten, GlobalAveragePooling1D\n",
    "from tensorflow.keras.optimizers import Adam, RMSprop\n",
    "from tensorflow.keras.models import Sequential"
   ]
  },
  {
   "cell_type": "code",
   "execution_count": 22,
   "metadata": {},
   "outputs": [],
   "source": [
    "def model(tf, weights='weights.hdfs'):\n",
    "    layers = tf.keras.layers\n",
    "    models = tf.keras.models\n",
    "    losses = tf.keras.losses\n",
    "    optimizers = tf.keras.optimizers\n",
    "    metrics = tf.keras.metrics\n",
    "    num_classes = 2\n",
    "    cnn = models.Sequential()\n",
    "    #cnn.add(base_model)\n",
    "\n",
    "    input_shapes=(160,160,3)\n",
    "    np.random.seed(1234)\n",
    "    vg19 = tf.keras.applications.vgg19.VGG19\n",
    "    base_model = vg19(include_top=False,weights='imagenet',input_shape=(160, 160,3))\n",
    "    # Freeze the layers except the last 4 layers\n",
    "    #for layer in base_model.layers:\n",
    "    #    layer.trainable = False\n",
    "\n",
    "    cnn = Sequential()\n",
    "    cnn.add(base_model)\n",
    "    cnn.add(Flatten())\n",
    "    model = Sequential()\n",
    "\n",
    "    model.add(TimeDistributed(cnn,  input_shape=(30, 160, 160, 3)))\n",
    "    model.add(LSTM(30 , return_sequences= True))\n",
    "\n",
    "    model.add(TimeDistributed(Dense(90)))\n",
    "    model.add(Dropout(0.1))\n",
    "\n",
    "    model.add(GlobalAveragePooling1D())\n",
    "\n",
    "    model.add(Dense(512, activation='relu'))\n",
    "    model.add(Dropout(0.3))\n",
    "\n",
    "    model.add(Dense(num_classes, activation=\"sigmoid\"))\n",
    "\n",
    "    adam = Adam(lr=0.0005, beta_1=0.9, beta_2=0.999, epsilon=1e-08)\n",
    "    model.load_weights(wight)\n",
    "    rms = RMSprop()\n",
    "\n",
    "    model.compile(loss='binary_crossentropy', optimizer=adam, metrics=[\"accuracy\"])\n",
    "\n",
    "    return model\n"
   ]
  },
  {
   "cell_type": "code",
   "execution_count": 23,
   "metadata": {},
   "outputs": [],
   "source": [
    "np.random.seed(1234)\n",
    "uploaded_model = model(tf)\n"
   ]
  },
  {
   "cell_type": "code",
   "execution_count": 24,
   "metadata": {},
   "outputs": [],
   "source": [
    "def video_mamonreader(cv2, filename):\n",
    "    frames = np.zeros((30, 160, 160, 3), dtype=np.float)\n",
    "    i=0\n",
    "    print(frames.shape)\n",
    "    vc = cv2.VideoCapture(filename)\n",
    "    if vc.isOpened():\n",
    "        rval , frame = vc.read()\n",
    "    else:\n",
    "        rval = False\n",
    "    frm = resize(frame,(160,160,3))\n",
    "    frm = np.expand_dims(frm,axis=0)\n",
    "    if(np.max(frm)>1):\n",
    "        frm = frm/255.0\n",
    "    frames[i][:] = frm\n",
    "    i +=1\n",
    "    print(\"reading video\")\n",
    "    while i < 30:\n",
    "        rval, frame = vc.read()\n",
    "        frm = resize(frame,(160,160,3))\n",
    "        frm = np.expand_dims(frm,axis=0)\n",
    "        if(np.max(frm)>1):\n",
    "            frm = frm/255.0\n",
    "        frames[i][:] = frm\n",
    "        i +=1\n",
    "    return frames"
   ]
  },
  {
   "cell_type": "code",
   "execution_count": 32,
   "metadata": {},
   "outputs": [],
   "source": [
    "def predictions(model, video, confidence_level=0.9):\n",
    "    prediction = model.predict(video)\n",
    "    if prediction[0][1] >= confidence_level:\n",
    "        return True , prediction[0][1]\n",
    "    else:\n",
    "        return False , prediction[0][1]"
   ]
  },
  {
   "cell_type": "code",
   "execution_count": 41,
   "metadata": {},
   "outputs": [],
   "source": [
    "def main_fight(video):\n",
    "    video = video_mamonreader(cv2, video)\n",
    "    input_data = np.zeros((1, 30, 160, 160, 3), dtype=np.float)\n",
    "    input_data[0][:][:] = video\n",
    "    boolean_output, precent = predictions(uploaded_model, input_data, confidence_level=0.65)\n",
    "    result = f\"fight:{boolean_output}, probability: {precent}\"\n",
    "    return result"
   ]
  },
  {
   "cell_type": "code",
   "execution_count": 42,
   "metadata": {
    "tags": []
   },
   "outputs": [
    {
     "output_type": "stream",
     "name": "stdout",
     "text": "(30, 160, 160, 3)\nreading video\n"
    }
   ],
   "source": [
    "res = main_fight('1.mp4')"
   ]
  },
  {
   "cell_type": "code",
   "execution_count": 43,
   "metadata": {},
   "outputs": [
    {
     "output_type": "execute_result",
     "data": {
      "text/plain": "'fight:False, probability: 0.009498625993728638'"
     },
     "metadata": {},
     "execution_count": 43
    }
   ],
   "source": [
    "res"
   ]
  },
  {
   "cell_type": "code",
   "execution_count": 36,
   "metadata": {
    "tags": []
   },
   "outputs": [
    {
     "output_type": "stream",
     "name": "stdout",
     "text": "(30, 160, 160, 3)\nreading video\n"
    }
   ],
   "source": [
    "res = main_fight('input.mp4')"
   ]
  },
  {
   "cell_type": "code",
   "execution_count": 37,
   "metadata": {},
   "outputs": [
    {
     "output_type": "execute_result",
     "data": {
      "text/plain": "'fight:False, probability: 0.4736264944076538'"
     },
     "metadata": {},
     "execution_count": 37
    }
   ],
   "source": [
    "res"
   ]
  },
  {
   "cell_type": "code",
   "execution_count": 67,
   "metadata": {},
   "outputs": [],
   "source": [
    "def predicts(video, confidence_level=0.9):\n",
    "    prediction = model.predict(video)\n",
    "    if prediction[0][1] >= confidence_level:\n",
    "        return True, prediction[0][1]\n",
    "    else:\n",
    "        return False, prediction[0][1]"
   ]
  },
  {
   "cell_type": "code",
   "execution_count": 68,
   "metadata": {},
   "outputs": [],
   "source": [
    "num_classes = 2\n",
    "\n",
    "cnn = Sequential()\n",
    "input_shapes=(160,160,3)\n",
    "np.random.seed(1234)\n",
    "base_model = tf.keras.applications.vgg19.VGG19(include_top=False, weights='imagenet', input_shape=(160, 160,3))\n",
    "\n",
    "cnn = Sequential()\n",
    "cnn.add(base_model)\n",
    "cnn.add(Flatten())\n",
    "model = Sequential()\n",
    "\n",
    "model.add(TimeDistributed(cnn,  input_shape=(30, 160, 160, 3)))\n",
    "model.add(LSTM(30 , return_sequences= True))\n",
    "\n",
    "model.add(TimeDistributed(Dense(90)))\n",
    "model.add(Dropout(0.1))\n",
    "\n",
    "model.add(GlobalAveragePooling1D())\n",
    "\n",
    "model.add(Dense(512, activation='relu'))\n",
    "model.add(Dropout(0.3))\n",
    "\n",
    "model.add(Dense(num_classes, activation=\"sigmoid\"))\n",
    "\n",
    "adam = Adam(lr=0.0005, beta_1=0.9, beta_2=0.999, epsilon=1e-08)\n",
    "model.load_weights(\"weights.hdfs\")\n",
    "rms = RMSprop()\n",
    "\n",
    "model.compile(loss='binary_crossentropy', optimizer=adam, metrics=[\"accuracy\"])\n"
   ]
  },
  {
   "cell_type": "code",
   "execution_count": 69,
   "metadata": {
    "tags": []
   },
   "outputs": [
    {
     "output_type": "stream",
     "name": "stdout",
     "text": "Model: \"sequential_23\"\n_________________________________________________________________\nLayer (type)                 Output Shape              Param #   \n=================================================================\ntime_distributed_14 (TimeDis (None, 30, 12800)         20024384  \n_________________________________________________________________\nlstm_7 (LSTM)                (None, 30, 30)            1539720   \n_________________________________________________________________\ntime_distributed_15 (TimeDis (None, 30, 90)            2790      \n_________________________________________________________________\ndropout_14 (Dropout)         (None, 30, 90)            0         \n_________________________________________________________________\nglobal_average_pooling1d_7 ( (None, 90)                0         \n_________________________________________________________________\ndense_22 (Dense)             (None, 512)               46592     \n_________________________________________________________________\ndropout_15 (Dropout)         (None, 512)               0         \n_________________________________________________________________\ndense_23 (Dense)             (None, 2)                 1026      \n=================================================================\nTotal params: 21,614,512\nTrainable params: 21,614,512\nNon-trainable params: 0\n_________________________________________________________________\n"
    }
   ],
   "source": [
    "model.summary()"
   ]
  },
  {
   "cell_type": "code",
   "execution_count": 70,
   "metadata": {
    "tags": []
   },
   "outputs": [
    {
     "output_type": "stream",
     "name": "stdout",
     "text": "WARNING:tensorflow:5 out of the last 1136 calls to <function Model.make_predict_function.<locals>.predict_function at 0x7f626fab6c10> triggered tf.function retracing. Tracing is expensive and the excessive number of tracings could be due to (1) creating @tf.function repeatedly in a loop, (2) passing tensors with different shapes, (3) passing Python objects instead of tensors. For (1), please define your @tf.function outside of the loop. For (2), @tf.function has experimental_relax_shapes=True option that relaxes argument shapes that can avoid unnecessary retracing. For (3), please refer to https://www.tensorflow.org/tutorials/customization/performance#python_or_tensor_args and https://www.tensorflow.org/api_docs/python/tf/function for  more details.\nFight: False, confidence 0.6637696623802185\nFight: False, confidence 0.6592472791671753\nFight: False, confidence 0.6601521372795105\nFight: False, confidence 0.6665381193161011\nFight: False, confidence 0.6614807844161987\nFight: False, confidence 0.9695391654968262\nFight: False, confidence 0.9134311676025391\nFight: False, confidence 0.9644286632537842\nFight: False, confidence 0.9779243469238281\nFight: False, confidence 0.5177187919616699\nFight: False, confidence 0.7999491095542908\nFight: False, confidence 0.7185858488082886\nFight: False, confidence 0.29327744245529175\nFight: False, confidence 0.6552181839942932\nFight: False, confidence 0.9676059484481812\n"
    }
   ],
   "source": [
    "cap = cv2.VideoCapture(0)\n",
    "while True:\n",
    "    # Capture frame-by-frame\n",
    "    ret, frame = cap.read()\n",
    "    frames = resize(frame, output_shape=(160,160,3))\n",
    "    input_data = np.zeros((1, 30, 160, 160, 3), dtype=np.float)\n",
    "    input_data[0][:][:] = frames\n",
    "    f , percent = predicts(input_data, confidence_level=0.99)\n",
    "    print(f\"Fight: {f}, confidence {percent}\")\n",
    "    # Our operations on the frame come here\n",
    "    # Display the resulting frame\n",
    "    cv2.imshow('frame',frames)\n",
    "    if cv2.waitKey(1) & 0xFF == ord('q'):\n",
    "        break\n",
    "# When everything done, release the capture\n",
    "cap.release()\n",
    "cv2.destroyAllWindows()"
   ]
  }
 ],
 "metadata": {
  "kernelspec": {
   "display_name": "Python 3",
   "language": "python",
   "name": "python3"
  }
 },
 "nbformat": 4,
 "nbformat_minor": 2
}